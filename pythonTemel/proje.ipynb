{
 "cells": [
  {
   "cell_type": "code",
   "execution_count": 1,
   "metadata": {},
   "outputs": [],
   "source": [
    "\"\"\"\n",
    " Bir listeyi düzleştiren (flatten) fonksiyon yazın. \n",
    " Elemanları birden çok katmanlı listelerden ([[3],2] gibi) oluşabileceği gibi, non-scalar verilerden de oluşabilir. \n",
    " Örnek olarak:\n",
    "\n",
    " input: [[1,'a',['cat'],2],[[[3]],'dog'],4,5]\n",
    "\n",
    " output: [1,'a','cat',2,3,'dog',4,5]\n",
    "\"\"\"\n",
    "def flatten(l):\n",
    "    flat =[]\n",
    "    for i in l:\n",
    "        if type(i) != list:\n",
    "            flat.append(i)\n",
    "        else:\n",
    "            flat.extend(flat(i))\n",
    "    return flat"
   ]
  },
  {
   "cell_type": "code",
   "execution_count": null,
   "metadata": {},
   "outputs": [],
   "source": [
    "\"\"\"\n",
    "Verilen listenin içindeki elemanları tersine döndüren bir fonksiyon yazın. \n",
    "Eğer listenin içindeki elemanlar da liste içeriyorsa onların elemanlarını da tersine döndürün. \n",
    "Örnek olarak:\n",
    "\n",
    "input: [[1, 2], [3, 4], [5, 6, 7]]\n",
    "\n",
    "output: [[[7, 6, 5], [4, 3], [2, 1]]\n",
    "\"\"\"\n",
    "def list_rev(l):\n",
    "    l.reverse()\n",
    "    for i in l:\n",
    "        if type(i) == list:\n",
    "            i.reverse()    \n",
    "    return l"
   ]
  }
 ],
 "metadata": {
  "kernelspec": {
   "display_name": "Python 3",
   "language": "python",
   "name": "python3"
  },
  "language_info": {
   "codemirror_mode": {
    "name": "ipython",
    "version": 3
   },
   "file_extension": ".py",
   "mimetype": "text/x-python",
   "name": "python",
   "nbconvert_exporter": "python",
   "pygments_lexer": "ipython3",
   "version": "3.8.3"
  }
 },
 "nbformat": 4,
 "nbformat_minor": 4
}
